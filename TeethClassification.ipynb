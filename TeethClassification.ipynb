{
  "nbformat": 4,
  "nbformat_minor": 0,
  "metadata": {
    "colab": {
      "provenance": [],
      "authorship_tag": "ABX9TyNfl+BR/Sgx/JKu0PnqkYgC",
      "include_colab_link": true
    },
    "kernelspec": {
      "name": "python3",
      "display_name": "Python 3"
    },
    "language_info": {
      "name": "python"
    }
  },
  "cells": [
    {
      "cell_type": "markdown",
      "metadata": {
        "id": "view-in-github",
        "colab_type": "text"
      },
      "source": [
        "<a href=\"https://colab.research.google.com/github/omarfathyz8/Teeth-Classification/blob/main/TeethClassification.ipynb\" target=\"_parent\"><img src=\"https://colab.research.google.com/assets/colab-badge.svg\" alt=\"Open In Colab\"/></a>"
      ]
    },
    {
      "cell_type": "markdown",
      "source": [
        "# Teeth Classification"
      ],
      "metadata": {
        "id": "7OEl9r_z6jpT"
      }
    },
    {
      "cell_type": "markdown",
      "source": [
        "##  Imports"
      ],
      "metadata": {
        "id": "8eOmdHZX6hG8"
      }
    },
    {
      "cell_type": "code",
      "execution_count": null,
      "metadata": {
        "id": "_zYJ0yb4zEl2"
      },
      "outputs": [],
      "source": [
        "import matplotlib.pyplot as plt\n",
        "import seaborn as sns\n",
        "import os\n",
        "import zipfile\n",
        "import tensorflow as tf\n",
        "from tensorflow.keras import layers\n",
        "import shutil"
      ]
    },
    {
      "cell_type": "markdown",
      "source": [
        "## Loading Datasets"
      ],
      "metadata": {
        "id": "pT1dH2GA7UOl"
      }
    },
    {
      "cell_type": "markdown",
      "source": [
        "#### Drive Mounting"
      ],
      "metadata": {
        "id": "NHE7x2yA7Cwu"
      }
    },
    {
      "cell_type": "code",
      "source": [
        "from google.colab import drive\n",
        "drive.mount(\"/content/drive\")"
      ],
      "metadata": {
        "colab": {
          "base_uri": "https://localhost:8080/"
        },
        "id": "kBRXQx6wzOSZ",
        "outputId": "78f2d1d9-eff6-4fe7-f894-ca03c380f6ef"
      },
      "execution_count": null,
      "outputs": [
        {
          "output_type": "stream",
          "name": "stdout",
          "text": [
            "Mounted at /content/drive\n"
          ]
        }
      ]
    },
    {
      "cell_type": "markdown",
      "source": [
        "#### Unzip Dataset Folder"
      ],
      "metadata": {
        "id": "o-8h2giT9oqI"
      }
    },
    {
      "cell_type": "code",
      "source": [
        "ZIP_PATH = \"/content/drive/MyDrive/CellulaTechnologies/ComputerVision/TeethDataset.zip\"\n",
        "EXTRACT_DIR = \"/content/TeethDataset\""
      ],
      "metadata": {
        "id": "z_Jde3c19rX4"
      },
      "execution_count": null,
      "outputs": []
    },
    {
      "cell_type": "code",
      "source": [
        "if not os.path.exists(EXTRACT_DIR):\n",
        "    with zipfile.ZipFile(ZIP_PATH, 'r') as zip_ref:\n",
        "        zip_ref.extractall(EXTRACT_DIR)"
      ],
      "metadata": {
        "id": "5aY_rr-y9tQt"
      },
      "execution_count": null,
      "outputs": []
    },
    {
      "cell_type": "code",
      "source": [
        "print(\"Extracted to:\", EXTRACT_DIR)"
      ],
      "metadata": {
        "colab": {
          "base_uri": "https://localhost:8080/"
        },
        "id": "TUbjIEVXCzJp",
        "outputId": "1f4ddd27-212c-4858-8748-a18293e03b86"
      },
      "execution_count": null,
      "outputs": [
        {
          "output_type": "stream",
          "name": "stdout",
          "text": [
            "Extracted to: /content/TeethDataset\n"
          ]
        }
      ]
    },
    {
      "cell_type": "markdown",
      "source": [
        "#### Data Directories"
      ],
      "metadata": {
        "id": "8RpTopqT7Xjm"
      }
    },
    {
      "cell_type": "code",
      "source": [
        "DATA_DIR = \"/content/TeethDataset/Teeth_Dataset\"\n",
        "TRAIN_DIR = os.path.join(DATA_DIR, \"Training\")\n",
        "TEST_DIR = os.path.join(DATA_DIR, \"Testing\")\n",
        "VAL_DIR = os.path.join(DATA_DIR, 'Validation')"
      ],
      "metadata": {
        "id": "XYkRUohp7bP_"
      },
      "execution_count": null,
      "outputs": []
    },
    {
      "cell_type": "code",
      "source": [
        "print('Training classes   :', os.listdir(TRAIN_DIR))\n",
        "print('Testing classes    :', os.listdir(TEST_DIR))\n",
        "print('Validation classes :', os.listdir(VAL_DIR))"
      ],
      "metadata": {
        "colab": {
          "base_uri": "https://localhost:8080/"
        },
        "id": "NQrmhd6K7keW",
        "outputId": "d4c49a8f-fc2c-411c-a7e7-4ba64ffcc518"
      },
      "execution_count": null,
      "outputs": [
        {
          "output_type": "stream",
          "name": "stdout",
          "text": [
            "Training classes   : ['MC', 'OC', 'OLP', 'Gum', 'OT', 'CaS', 'CoS']\n",
            "Testing classes    : ['output_image.jpg', 'outputs', 'MC', 'OC', 'OLP', 'Gum', 'output', 'OT', 'CaS', 'CoS', 'out']\n",
            "Validation classes : ['MC', 'OC', 'OLP', 'Gum', 'OT', 'CaS', 'CoS']\n"
          ]
        }
      ]
    },
    {
      "cell_type": "markdown",
      "source": [
        "#### Remove Extra Classes from Test Folder"
      ],
      "metadata": {
        "id": "HN6LAQ2ZXyGq"
      }
    },
    {
      "cell_type": "code",
      "source": [
        "# Allowed class names\n",
        "allowed_classes = ['MC', 'OC', 'OLP', 'Gum', 'OT', 'CaS', 'CoS']\n",
        "\n",
        "# Loop through test_dir and remove anything not in allowed_classes\n",
        "for item in os.listdir(TEST_DIR):\n",
        "    item_path = os.path.join(TEST_DIR, item)\n",
        "    if item not in allowed_classes:\n",
        "        if os.path.isdir(item_path):\n",
        "            shutil.rmtree(item_path)  # remove folder\n",
        "        else:\n",
        "            os.remove(item_path)      # remove file\n",
        "        print(f\"Removed: {item}\")\n",
        "\n",
        "print(\"\\nCleaned test directory successfully.\\nClasses now:\", os.listdir(TEST_DIR))"
      ],
      "metadata": {
        "colab": {
          "base_uri": "https://localhost:8080/"
        },
        "id": "DDCB6XxkXwX3",
        "outputId": "efce2573-25fc-4beb-84da-41749125db44"
      },
      "execution_count": null,
      "outputs": [
        {
          "output_type": "stream",
          "name": "stdout",
          "text": [
            "Removed: output_image.jpg\n",
            "Removed: outputs\n",
            "Removed: output\n",
            "Removed: out\n",
            "\n",
            "Cleaned test directory successfully.\n",
            "Classes now: ['MC', 'OC', 'OLP', 'Gum', 'OT', 'CaS', 'CoS']\n"
          ]
        }
      ]
    }
  ]
}